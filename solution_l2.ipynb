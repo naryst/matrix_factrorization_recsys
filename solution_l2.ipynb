{
 "cells": [
  {
   "cell_type": "code",
   "execution_count": null,
   "metadata": {},
   "outputs": [],
   "source": [
    "import numpy as np\n",
    "from scipy.sparse import csr_matrix\n",
    "import scipy.sparse.linalg\n",
    "from scipy.io import loadmat\n",
    "import matplotlib.pyplot as plt\n",
    "from tqdm.notebook import tqdm"
   ]
  },
  {
   "cell_type": "code",
   "execution_count": null,
   "metadata": {},
   "outputs": [],
   "source": [
    "def updateWLRAgrad(X, W, v, u, step=None, gamma=3, beta=4, reg_lambda=0.1):\n",
    "    \"\"\"\n",
    "    Updates a single factor matrix (u) while keeping the other (v) fixed.\n",
    "    Includes L2 regularization.\n",
    "    \"\"\"\n",
    "    R = u.dot(v.T) - X  # Residual matrix\n",
    "    WR = W.multiply(R)  # Masked residual\n",
    "    gradu = WR.dot(v) + reg_lambda * u  # Gradient with L2 regularization\n",
    "\n",
    "    if step is None or not step:  # Check if step is empty or None\n",
    "        step = 2 * np.linalg.norm(u) / np.linalg.norm(gradu)\n",
    "\n",
    "    e0 = np.sum(WR.power(2)) + reg_lambda * np.sum(u ** 2)\n",
    "    e1 = float('inf')\n",
    "    while e1 > e0:\n",
    "        unew = u - step * gradu\n",
    "        step /= gamma\n",
    "        e1 = np.sum((W.multiply(X - unew.dot(v.T))).power(2)) + reg_lambda * np.sum(unew ** 2)\n",
    "    u = unew\n",
    "    step *= beta\n",
    "    return u, step, e1"
   ]
  },
  {
   "cell_type": "code",
   "execution_count": null,
   "metadata": {},
   "outputs": [],
   "source": [
    "# Load data matrix\n",
    "data = loadmat('Data/matlab/inputX.mat')  # Load the .mat file\n",
    "X = data['X']  # Assuming the matrix is stored under the key 'X'\n",
    "X = csr_matrix(X)  # Convert to sparse matrix\n",
    "m, n = X.shape\n",
    "numX = X.count_nonzero()\n",
    "\n",
    "# Construct binary weight matrix\n",
    "W = X.copy()\n",
    "W.data = np.ones_like(W.data)\n",
    "\n",
    "rank = 5\n",
    "\n",
    "# Init.2: average per row\n",
    "v = np.ones((n, rank))\n",
    "u = np.random.rand(m, rank)\n",
    "for i in range(m):\n",
    "    non_zero_indices = X[i].nonzero()[1]\n",
    "    if len(non_zero_indices) > 0:\n",
    "        u[i] = np.array([X[i, non_zero_indices].mean() for _ in range(len(u[i]))])"
   ]
  },
  {
   "cell_type": "code",
   "execution_count": null,
   "metadata": {},
   "outputs": [],
   "source": [
    "# Estimate the parameters of the model: Optimize u and v alternatively via gradient descent\n",
    "k = 1\n",
    "max_k = 500\n",
    "uprec = u\n",
    "stepu = []\n",
    "stepv = []\n",
    "e = []\n",
    "while k <= max_k and (k <= 2 or (e[-2] - e[-1]) / e[-2] > 1e-6):  # Stopping criterion\n",
    "    # Update u\n",
    "    u, stepu, eu = updateWLRAgrad(X, W, v, u, stepu)\n",
    "    # Update v\n",
    "    v, stepv, ev = updateWLRAgrad(X.T, W.T, u, v, stepv)\n",
    "    e.extend([np.sqrt(eu / numX), np.sqrt(ev / numX)])\n",
    "    print(f\"Iteration {k}, RMSE: {e[-1]}\")\n",
    "    k += 1\n",
    "\n",
    "# Display the evolution of the RMSE\n",
    "plt.figure()\n",
    "plt.xlabel('Iteration')\n",
    "plt.ylabel('Observed RMSE')\n",
    "plt.plot(e, 'bo--')\n",
    "plt.show()"
   ]
  },
  {
   "cell_type": "code",
   "execution_count": null,
   "metadata": {},
   "outputs": [],
   "source": [
    "# Construct the prediction in a csv file\n",
    "data_eval = loadmat('Data/matlab/inputEval.mat')\n",
    "Eval = data_eval['Eval']\n",
    "numpred = Eval.shape[0]\n",
    "predic = np.zeros((numpred,2))\n",
    "# predic[:,0] = np.linspace(1, numpred, numpred, endpoint=True).round().astype(int)\n",
    "for i in range(numpred):\n",
    "    predic[i,0] = int(i + 1)\n",
    "    predic[i,1] = np.dot(u[Eval[i,0]-1], v[Eval[i,1]-1])\n",
    "    # Make sure the prediction is in [1,5]\n",
    "    predic[i,1] = max(1, predic[i,1])\n",
    "    predic[i,1] = min(5, predic[i,1])\n",
    "np.savetxt('l2_reg.csv', predic, delimiter=',', fmt=[\"%d\"] + [\"%.4f\"], header=\"ID,Rating\",comments='')"
   ]
  }
 ],
 "metadata": {
  "kernelspec": {
   "display_name": "ml",
   "language": "python",
   "name": "python3"
  },
  "language_info": {
   "name": "python",
   "version": "3.10.9"
  }
 },
 "nbformat": 4,
 "nbformat_minor": 2
}
