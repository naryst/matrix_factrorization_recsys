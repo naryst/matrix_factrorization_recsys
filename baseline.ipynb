{
 "cells": [
  {
   "cell_type": "code",
   "execution_count": 1,
   "metadata": {},
   "outputs": [],
   "source": [
    "import numpy as np\n",
    "from scipy.sparse import csr_matrix\n",
    "from scipy.io import loadmat\n",
    "import matplotlib.pyplot as plt"
   ]
  },
  {
   "cell_type": "code",
   "execution_count": 2,
   "metadata": {},
   "outputs": [],
   "source": [
    "def updateWLRAgrad(X, W, v, u, step=None):\n",
    "    R = u.dot(v.T) - X  # residual\n",
    "    WR = W.multiply(R)  # masked residual\n",
    "    gradu = WR.dot(v)   # gradient at u\n",
    "\n",
    "    if step is None or not step:  # Check if step is empty or None\n",
    "        step = 2 * np.linalg.norm(u) / np.linalg.norm(gradu)\n",
    "\n",
    "    # print(step)\n",
    "    e0 = np.sum(WR.power(2))\n",
    "    e1 = float('inf')\n",
    "    while e1 > e0:\n",
    "        unew = u - step * gradu\n",
    "        step /= 1.5 #( 1/1.5 = \\gamma)\n",
    "        e1 = np.sum((W.multiply(X - unew.dot(v.T))).power(2))\n",
    "    u = unew\n",
    "    step *= 4       #( 4 = \\beta)\n",
    "    return u, step, e1"
   ]
  },
  {
   "cell_type": "code",
   "execution_count": 4,
   "metadata": {},
   "outputs": [
    {
     "name": "stdout",
     "output_type": "stream",
     "text": [
      "Iteration 1, RMSE: 11.019023841459507\n",
      "Iteration 2, RMSE: 7.3261453864265045\n",
      "Iteration 3, RMSE: 4.206875720840425\n"
     ]
    },
    {
     "ename": "KeyboardInterrupt",
     "evalue": "",
     "output_type": "error",
     "traceback": [
      "\u001b[0;31m---------------------------------------------------------------------------\u001b[0m",
      "\u001b[0;31mKeyboardInterrupt\u001b[0m                         Traceback (most recent call last)",
      "Cell \u001b[0;32mIn[4], line 35\u001b[0m\n\u001b[1;32m     32\u001b[0m e \u001b[38;5;241m=\u001b[39m []\n\u001b[1;32m     33\u001b[0m \u001b[38;5;28;01mwhile\u001b[39;00m k \u001b[38;5;241m<\u001b[39m\u001b[38;5;241m=\u001b[39m max_k \u001b[38;5;129;01mand\u001b[39;00m (k \u001b[38;5;241m<\u001b[39m\u001b[38;5;241m=\u001b[39m \u001b[38;5;241m2\u001b[39m \u001b[38;5;129;01mor\u001b[39;00m (e[\u001b[38;5;241m-\u001b[39m\u001b[38;5;241m2\u001b[39m] \u001b[38;5;241m-\u001b[39m e[\u001b[38;5;241m-\u001b[39m\u001b[38;5;241m1\u001b[39m]) \u001b[38;5;241m/\u001b[39m e[\u001b[38;5;241m-\u001b[39m\u001b[38;5;241m2\u001b[39m] \u001b[38;5;241m>\u001b[39m \u001b[38;5;241m1e-6\u001b[39m):  \u001b[38;5;66;03m# Stopping criterion\u001b[39;00m\n\u001b[1;32m     34\u001b[0m     \u001b[38;5;66;03m# Update u\u001b[39;00m\n\u001b[0;32m---> 35\u001b[0m     u, stepu, eu \u001b[38;5;241m=\u001b[39m \u001b[43mupdateWLRAgrad\u001b[49m\u001b[43m(\u001b[49m\u001b[43mX\u001b[49m\u001b[43m,\u001b[49m\u001b[43m \u001b[49m\u001b[43mW\u001b[49m\u001b[43m,\u001b[49m\u001b[43m \u001b[49m\u001b[43mv\u001b[49m\u001b[43m,\u001b[49m\u001b[43m \u001b[49m\u001b[43mu\u001b[49m\u001b[43m,\u001b[49m\u001b[43m \u001b[49m\u001b[43mstepu\u001b[49m\u001b[43m)\u001b[49m\n\u001b[1;32m     36\u001b[0m     \u001b[38;5;66;03m# Update v\u001b[39;00m\n\u001b[1;32m     37\u001b[0m     v, stepv, ev \u001b[38;5;241m=\u001b[39m updateWLRAgrad(X\u001b[38;5;241m.\u001b[39mT, W\u001b[38;5;241m.\u001b[39mT, u, v, stepv)\n",
      "Cell \u001b[0;32mIn[2], line 15\u001b[0m, in \u001b[0;36mupdateWLRAgrad\u001b[0;34m(X, W, v, u, step)\u001b[0m\n\u001b[1;32m     13\u001b[0m     unew \u001b[38;5;241m=\u001b[39m u \u001b[38;5;241m-\u001b[39m step \u001b[38;5;241m*\u001b[39m gradu\n\u001b[1;32m     14\u001b[0m     step \u001b[38;5;241m/\u001b[39m\u001b[38;5;241m=\u001b[39m \u001b[38;5;241m1.5\u001b[39m \u001b[38;5;66;03m#( 1/1.5 = \\gamma)\u001b[39;00m\n\u001b[0;32m---> 15\u001b[0m     e1 \u001b[38;5;241m=\u001b[39m np\u001b[38;5;241m.\u001b[39msum((W\u001b[38;5;241m.\u001b[39mmultiply(\u001b[43mX\u001b[49m\u001b[43m \u001b[49m\u001b[38;5;241;43m-\u001b[39;49m\u001b[43m \u001b[49m\u001b[43munew\u001b[49m\u001b[38;5;241;43m.\u001b[39;49m\u001b[43mdot\u001b[49m\u001b[43m(\u001b[49m\u001b[43mv\u001b[49m\u001b[38;5;241;43m.\u001b[39;49m\u001b[43mT\u001b[49m\u001b[43m)\u001b[49m))\u001b[38;5;241m.\u001b[39mpower(\u001b[38;5;241m2\u001b[39m))\n\u001b[1;32m     16\u001b[0m u \u001b[38;5;241m=\u001b[39m unew\n\u001b[1;32m     17\u001b[0m step \u001b[38;5;241m*\u001b[39m\u001b[38;5;241m=\u001b[39m \u001b[38;5;241m4\u001b[39m       \u001b[38;5;66;03m#( 4 = \\beta)\u001b[39;00m\n",
      "File \u001b[0;32m~/anaconda3/envs/ml/lib/python3.10/site-packages/scipy/sparse/_base.py:552\u001b[0m, in \u001b[0;36m_spbase.__sub__\u001b[0;34m(self, other)\u001b[0m\n\u001b[1;32m    550\u001b[0m \u001b[38;5;28;01melif\u001b[39;00m isdense(other):\n\u001b[1;32m    551\u001b[0m     other \u001b[38;5;241m=\u001b[39m np\u001b[38;5;241m.\u001b[39mbroadcast_to(other, \u001b[38;5;28mself\u001b[39m\u001b[38;5;241m.\u001b[39mshape)\n\u001b[0;32m--> 552\u001b[0m     \u001b[38;5;28;01mreturn\u001b[39;00m \u001b[38;5;28;43mself\u001b[39;49m\u001b[38;5;241;43m.\u001b[39;49m\u001b[43m_sub_dense\u001b[49m\u001b[43m(\u001b[49m\u001b[43mother\u001b[49m\u001b[43m)\u001b[49m\n\u001b[1;32m    553\u001b[0m \u001b[38;5;28;01melse\u001b[39;00m:\n\u001b[1;32m    554\u001b[0m     \u001b[38;5;28;01mreturn\u001b[39;00m \u001b[38;5;28mNotImplemented\u001b[39m\n",
      "\u001b[0;31mKeyboardInterrupt\u001b[0m: "
     ]
    }
   ],
   "source": [
    "# Load data matrix\n",
    "data = loadmat('Data/matlab/inputX.mat')  # Load the .mat file\n",
    "X = data['X']  # Assuming the matrix is stored under the key 'X'\n",
    "X = csr_matrix(X)  # Convert to sparse matrix\n",
    "m, n = X.shape\n",
    "numX = X.count_nonzero()\n",
    "\n",
    "# Construct binary weight matrix\n",
    "W = X.copy()\n",
    "W.data = np.ones_like(W.data)\n",
    "\n",
    "# Initialization: Compute a rank-one (approximate) factorization\n",
    "# Init.1: random in the interval [1,5]\n",
    "# u = np.random.rand(m, 5)\n",
    "# v = np.random.rand(n, 5) * 5\n",
    "\n",
    "# Init.2: average per row\n",
    "rank = 5\n",
    "v = np.ones((n, rank))\n",
    "u = np.random.rand(m, rank)\n",
    "for i in range(m):\n",
    "    non_zero_indices = X[i].nonzero()[1]\n",
    "    if len(non_zero_indices) > 0:\n",
    "        u[i] = np.array([X[i, non_zero_indices].mean() for _ in range(len(u[i]))])\n",
    "\n",
    "# Estimate the parameters of the model: Optimize u and v alternatively via gradient descent\n",
    "k = 1\n",
    "max_k = 100\n",
    "uprec = u\n",
    "stepu = []\n",
    "stepv = []\n",
    "e = []\n",
    "while k <= max_k and (k <= 2 or (e[-2] - e[-1]) / e[-2] > 1e-6):  # Stopping criterion\n",
    "    # Update u\n",
    "    u, stepu, eu = updateWLRAgrad(X, W, v, u, stepu)\n",
    "    # Update v\n",
    "    v, stepv, ev = updateWLRAgrad(X.T, W.T, u, v, stepv)\n",
    "    e.extend([np.sqrt(eu / numX), np.sqrt(ev / numX)])\n",
    "    print(f\"Iteration {k}, RMSE: {e[-1]}\")\n",
    "    k += 1\n",
    "\n",
    "# Display the evolution of the RMSE\n",
    "plt.figure()\n",
    "plt.xlabel('Iteration')\n",
    "plt.ylabel('Observed RMSE')\n",
    "plt.yscale('log')\n",
    "plt.plot(e, 'bo--')\n",
    "plt.show()"
   ]
  },
  {
   "cell_type": "code",
   "execution_count": 7,
   "metadata": {},
   "outputs": [],
   "source": [
    "# Construct the prediction in a csv file\n",
    "data_eval = loadmat('Data/matlab/inputEval.mat')\n",
    "Eval = data_eval['Eval']\n",
    "numpred = Eval.shape[0]\n",
    "predic = np.zeros((numpred,2))\n",
    "# predic[:,0] = np.linspace(1, numpred, numpred, endpoint=True).round().astype(int)\n",
    "for i in range(numpred):\n",
    "    predic[i,0] = int(i + 1)\n",
    "    predic[i,1] = np.dot(u[Eval[i,0]-1], v[Eval[i,1]-1])\n",
    "    # Make sure the prediction is in [1,5]\n",
    "    predic[i,1] = max(1, predic[i,1])\n",
    "    predic[i,1] = min(5, predic[i,1])\n",
    "np.savetxt('sol_rank_one.csv', predic, delimiter=',', fmt=[\"%d\"] + [\"%.4f\"], header=\"ID,Rating\",comments='')"
   ]
  }
 ],
 "metadata": {
  "kernelspec": {
   "display_name": "ml",
   "language": "python",
   "name": "python3"
  },
  "language_info": {
   "codemirror_mode": {
    "name": "ipython",
    "version": 3
   },
   "file_extension": ".py",
   "mimetype": "text/x-python",
   "name": "python",
   "nbconvert_exporter": "python",
   "pygments_lexer": "ipython3",
   "version": "3.10.9"
  }
 },
 "nbformat": 4,
 "nbformat_minor": 2
}
